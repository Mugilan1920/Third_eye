
import os
import platform
from IPython.display import clear_output
print(platform.platform())

def resolve_dir(Dir):
    if not os.path.exists(Dir):
        os.mkdir(Dir)

def reset_path(Dir):
    if not os.path.exists(Dir):
        os.mkdir(Dir)
    else:
        os.system('rm -f {}/*'.format( Dir))
Windows-10-10.0.22000-SP0
import tensorflow as tf
tf.random.set_seed(73)
TPU_INIT = False

if TPU_INIT:
    try:
        tpu = tf.distribute.cluster_resolver.TPUClusterResolver.connect()
        tpu_strategy = tf.distribute.experimental.TPUStrategy(tpu)
    
    except ValueError:
        raise BaseException('ERROR: Not connected to a TPU runtime!')
else:
    !nvidia-smi
;    
print("Tensorflow version " + tf.__version__)
Tensorflow version 2.8.0
'nvidia-smi' is not recognized as an internal or external command,
operable program or batch file.
MyDrive = '/kaggle/working'
PROJECT_DIR = './Downloads/violencedataset'
Preprocessing
Getting frames form video
some image argumentations
import cv2
import os
import imageio
import imgaug.augmenters as iaa
import imgaug as ia

IMG_SIZE = 128
ColorChannels = 3

def video_to_frames(video):
    vidcap = cv2.VideoCapture(video)
    
    import math
    rate = math.floor(vidcap.get(3))
    count = 0
    
    ImageFrames = []
    while vidcap.isOpened():
        ID = vidcap.get(1)
        success, image = vidcap.read()
        
        if success:
            # skipping frames to avoid duplications 
            if (ID % 7 == 0):
                flip = iaa.Fliplr(1.0)
                zoom = iaa.Affine(scale=1.3)
                random_brightness = iaa.Multiply((1, 1.3))
                rotate = iaa.Affine(rotate=(-25, 25))
                
                image_aug = flip(image = image)
                image_aug = random_brightness(image = image_aug)
                image_aug = zoom(image = image_aug)
                image_aug = rotate(image = image_aug)
                
                rgb_img = cv2.cvtColor(image_aug, cv2.COLOR_BGR2RGB)
                resized = cv2.resize(rgb_img, (IMG_SIZE, IMG_SIZE))
                ImageFrames.append(resized)
                
            count += 1
        else:
            break
    
    vidcap.release()
    
    return ImageFrames
%%time
from tqdm import tqdm

VideoDataDir = PROJECT_DIR + '/Real Life Violence Dataset'
print('we have \n{} Violence videos \n{} NonViolence videos'.format(
              len(os.listdir(VideoDataDir + '/Violence')), 
              len(os.listdir(VideoDataDir + '/NonViolence'))))

X_original = []
y_original = []

print('i choose 700 videos out of 2000, cuz of memory issue')
CLASSES = ["NonViolence", "Violence"]
#700 <- 350 + 350

for category in os.listdir(VideoDataDir):
    path = os.path.join(VideoDataDir, category)
    class_num = CLASSES.index(category)
    for i, video in enumerate(tqdm(os.listdir(path)[0:350])):
        frames = video_to_frames(path + '/' + video)
        for j, frame in enumerate(frames):
            X_original.append(frame)
            y_original.append(class_num)
we have 
350 Violence videos 
350 NonViolence videos
i choose 700 videos out of 2000, cuz of memory issue
100%|████████████████████████████████████████████████████████████████████████████████| 350/350 [02:18<00:00,  2.52it/s]
100%|████████████████████████████████████████████████████████████████████████████████| 350/350 [03:09<00:00,  1.85it/s]
Wall time: 5min 28s
import numpy as np
X_original = np.array(X_original).reshape(-1 , IMG_SIZE * IMG_SIZE * 3)
y_original = np.array(y_original)
len(X_original)
16030
from sklearn.model_selection import StratifiedShuffleSplit

stratified_sample = StratifiedShuffleSplit(n_splits=2, test_size=0.3, random_state=73)

for train_index, test_index in stratified_sample.split(X_original, y_original):
    X_train, X_test = X_original[train_index], X_original[test_index]
    y_train, y_test = y_original[train_index], y_original[test_index]

X_train_nn = X_train.reshape(-1, IMG_SIZE, IMG_SIZE, 3) / 255
X_test_nn = X_test.reshape(-1, IMG_SIZE, IMG_SIZE, 3) / 255
Model Training
!pip install imutils
clear_output()
import cv2
import os
import numpy as np
import pickle
import matplotlib
matplotlib.use("Agg")

from keras.layers import Input
from keras.models import Model
from keras.layers.core import Dropout,Flatten,Dense

import matplotlib.pyplot as plt
epochs = 50

from keras import regularizers
kernel_regularizer = regularizers.l2(0.0001)

from keras.applications.mobilenet_v2 import MobileNetV2

def load_layers():
    input_tensor = Input(shape=(IMG_SIZE, IMG_SIZE, ColorChannels))
    baseModel = MobileNetV2(pooling='avg',
                            include_top=False, 
                            input_tensor=input_tensor)
    
    headModel = baseModel.output   
    headModel = Dense(1, activation="sigmoid")(headModel)
    model = Model(inputs=baseModel.input, outputs=headModel)

    for layer in baseModel.layers:
        layer.trainable = False

    print("Compiling model...")
    model.compile(loss="binary_crossentropy",
                    optimizer='adam',
                    metrics=["accuracy"])

    return model

if TPU_INIT:
    with tpu_strategy.scope():
        model = load_layers()
else:
    model = load_layers()

model.summary()
WARNING:tensorflow:`input_shape` is undefined or non-square, or `rows` is not in [96, 128, 160, 192, 224]. Weights for input shape (224, 224) will be loaded as the default.
Compiling model...
Model: "model_2"
__________________________________________________________________________________________________
 Layer (type)                   Output Shape         Param #     Connected to                     
==================================================================================================
 input_3 (InputLayer)           [(None, 128, 128, 3  0           []                               
                                )]                                                                
                                                                                                  
 Conv1 (Conv2D)                 (None, 64, 64, 32)   864         ['input_3[0][0]']                
                                                                                                  
 bn_Conv1 (BatchNormalization)  (None, 64, 64, 32)   128         ['Conv1[0][0]']                  
                                                                                                  
 Conv1_relu (ReLU)              (None, 64, 64, 32)   0           ['bn_Conv1[0][0]']               
                                                                                                  
 expanded_conv_depthwise (Depth  (None, 64, 64, 32)  288         ['Conv1_relu[0][0]']             
 wiseConv2D)                                                                                      
                                                                                                  
 expanded_conv_depthwise_BN (Ba  (None, 64, 64, 32)  128         ['expanded_conv_depthwise[0][0]']
 tchNormalization)                                                                                
                                                                                                  
 expanded_conv_depthwise_relu (  (None, 64, 64, 32)  0           ['expanded_conv_depthwise_BN[0][0
 ReLU)                                                           ]']                              
                                                                                                  
 expanded_conv_project (Conv2D)  (None, 64, 64, 16)  512         ['expanded_conv_depthwise_relu[0]
                                                                 [0]']                            
                                                                                                  
 expanded_conv_project_BN (Batc  (None, 64, 64, 16)  64          ['expanded_conv_project[0][0]']  
 hNormalization)                                                                                  
                                                                                                  
 block_1_expand (Conv2D)        (None, 64, 64, 96)   1536        ['expanded_conv_project_BN[0][0]'
                                                                 ]                                
                                                                                                  
 block_1_expand_BN (BatchNormal  (None, 64, 64, 96)  384         ['block_1_expand[0][0]']         
 ization)                                                                                         
                                                                                                  
 block_1_expand_relu (ReLU)     (None, 64, 64, 96)   0           ['block_1_expand_BN[0][0]']      
                                                                                                  
 block_1_pad (ZeroPadding2D)    (None, 65, 65, 96)   0           ['block_1_expand_relu[0][0]']    
                                                                                                  
 block_1_depthwise (DepthwiseCo  (None, 32, 32, 96)  864         ['block_1_pad[0][0]']            
 nv2D)                                                                                            
                                                                                                  
 block_1_depthwise_BN (BatchNor  (None, 32, 32, 96)  384         ['block_1_depthwise[0][0]']      
 malization)                                                                                      
                                                                                                  
 block_1_depthwise_relu (ReLU)  (None, 32, 32, 96)   0           ['block_1_depthwise_BN[0][0]']   
                                                                                                  
 block_1_project (Conv2D)       (None, 32, 32, 24)   2304        ['block_1_depthwise_relu[0][0]'] 
                                                                                                  
 block_1_project_BN (BatchNorma  (None, 32, 32, 24)  96          ['block_1_project[0][0]']        
 lization)                                                                                        
                                                                                                  
 block_2_expand (Conv2D)        (None, 32, 32, 144)  3456        ['block_1_project_BN[0][0]']     
                                                                                                  
 block_2_expand_BN (BatchNormal  (None, 32, 32, 144)  576        ['block_2_expand[0][0]']         
 ization)                                                                                         
                                                                                                  
 block_2_expand_relu (ReLU)     (None, 32, 32, 144)  0           ['block_2_expand_BN[0][0]']      
                                                                                                  
 block_2_depthwise (DepthwiseCo  (None, 32, 32, 144)  1296       ['block_2_expand_relu[0][0]']    
 nv2D)                                                                                            
                                                                                                  
 block_2_depthwise_BN (BatchNor  (None, 32, 32, 144)  576        ['block_2_depthwise[0][0]']      
 malization)                                                                                      
                                                                                                  
 block_2_depthwise_relu (ReLU)  (None, 32, 32, 144)  0           ['block_2_depthwise_BN[0][0]']   
                                                                                                  
 block_2_project (Conv2D)       (None, 32, 32, 24)   3456        ['block_2_depthwise_relu[0][0]'] 
                                                                                                  
 block_2_project_BN (BatchNorma  (None, 32, 32, 24)  96          ['block_2_project[0][0]']        
 lization)                                                                                        
                                                                                                  
 block_2_add (Add)              (None, 32, 32, 24)   0           ['block_1_project_BN[0][0]',     
                                                                  'block_2_project_BN[0][0]']     
                                                                                                  
 block_3_expand (Conv2D)        (None, 32, 32, 144)  3456        ['block_2_add[0][0]']            
                                                                                                  
 block_3_expand_BN (BatchNormal  (None, 32, 32, 144)  576        ['block_3_expand[0][0]']         
 ization)                                                                                         
                                                                                                  
 block_3_expand_relu (ReLU)     (None, 32, 32, 144)  0           ['block_3_expand_BN[0][0]']      
                                                                                                  
 block_3_pad (ZeroPadding2D)    (None, 33, 33, 144)  0           ['block_3_expand_relu[0][0]']    
                                                                                                  
 block_3_depthwise (DepthwiseCo  (None, 16, 16, 144)  1296       ['block_3_pad[0][0]']            
 nv2D)                                                                                            
                                                                                                  
 block_3_depthwise_BN (BatchNor  (None, 16, 16, 144)  576        ['block_3_depthwise[0][0]']      
 malization)                                                                                      
                                                                                                  
 block_3_depthwise_relu (ReLU)  (None, 16, 16, 144)  0           ['block_3_depthwise_BN[0][0]']   
                                                                                                  
 block_3_project (Conv2D)       (None, 16, 16, 32)   4608        ['block_3_depthwise_relu[0][0]'] 
                                                                                                  
 block_3_project_BN (BatchNorma  (None, 16, 16, 32)  128         ['block_3_project[0][0]']        
 lization)                                                                                        
                                                                                                  
 block_4_expand (Conv2D)        (None, 16, 16, 192)  6144        ['block_3_project_BN[0][0]']     
                                                                                                  
 block_4_expand_BN (BatchNormal  (None, 16, 16, 192)  768        ['block_4_expand[0][0]']         
 ization)                                                                                         
                                                                                                  
 block_4_expand_relu (ReLU)     (None, 16, 16, 192)  0           ['block_4_expand_BN[0][0]']      
                                                                                                  
 block_4_depthwise (DepthwiseCo  (None, 16, 16, 192)  1728       ['block_4_expand_relu[0][0]']    
 nv2D)                                                                                            
                                                                                                  
 block_4_depthwise_BN (BatchNor  (None, 16, 16, 192)  768        ['block_4_depthwise[0][0]']      
 malization)                                                                                      
                                                                                                  
 block_4_depthwise_relu (ReLU)  (None, 16, 16, 192)  0           ['block_4_depthwise_BN[0][0]']   
                                                                                                  
 block_4_project (Conv2D)       (None, 16, 16, 32)   6144        ['block_4_depthwise_relu[0][0]'] 
                                                                                                  
 block_4_project_BN (BatchNorma  (None, 16, 16, 32)  128         ['block_4_project[0][0]']        
 lization)                                                                                        
                                                                                                  
 block_4_add (Add)              (None, 16, 16, 32)   0           ['block_3_project_BN[0][0]',     
                                                                  'block_4_project_BN[0][0]']     
                                                                                                  
 block_5_expand (Conv2D)        (None, 16, 16, 192)  6144        ['block_4_add[0][0]']            
                                                                                                  
 block_5_expand_BN (BatchNormal  (None, 16, 16, 192)  768        ['block_5_expand[0][0]']         
 ization)                                                                                         
                                                                                                  
 block_5_expand_relu (ReLU)     (None, 16, 16, 192)  0           ['block_5_expand_BN[0][0]']      
                                                                                                  
 block_5_depthwise (DepthwiseCo  (None, 16, 16, 192)  1728       ['block_5_expand_relu[0][0]']    
 nv2D)                                                                                            
                                                                                                  
 block_5_depthwise_BN (BatchNor  (None, 16, 16, 192)  768        ['block_5_depthwise[0][0]']      
 malization)                                                                                      
                                                                                                  
 block_5_depthwise_relu (ReLU)  (None, 16, 16, 192)  0           ['block_5_depthwise_BN[0][0]']   
                                                                                                  
 block_5_project (Conv2D)       (None, 16, 16, 32)   6144        ['block_5_depthwise_relu[0][0]'] 
                                                                                                  
 block_5_project_BN (BatchNorma  (None, 16, 16, 32)  128         ['block_5_project[0][0]']        
 lization)                                                                                        
                                                                                                  
 block_5_add (Add)              (None, 16, 16, 32)   0           ['block_4_add[0][0]',            
                                                                  'block_5_project_BN[0][0]']     
                                                                                                  
 block_6_expand (Conv2D)        (None, 16, 16, 192)  6144        ['block_5_add[0][0]']            
                                                                                                  
 block_6_expand_BN (BatchNormal  (None, 16, 16, 192)  768        ['block_6_expand[0][0]']         
 ization)                                                                                         
                                                                                                  
 block_6_expand_relu (ReLU)     (None, 16, 16, 192)  0           ['block_6_expand_BN[0][0]']      
                                                                                                  
 block_6_pad (ZeroPadding2D)    (None, 17, 17, 192)  0           ['block_6_expand_relu[0][0]']    
                                                                                                  
 block_6_depthwise (DepthwiseCo  (None, 8, 8, 192)   1728        ['block_6_pad[0][0]']            
 nv2D)                                                                                            
                                                                                                  
 block_6_depthwise_BN (BatchNor  (None, 8, 8, 192)   768         ['block_6_depthwise[0][0]']      
 malization)                                                                                      
                                                                                                  
 block_6_depthwise_relu (ReLU)  (None, 8, 8, 192)    0           ['block_6_depthwise_BN[0][0]']   
                                                                                                  
 block_6_project (Conv2D)       (None, 8, 8, 64)     12288       ['block_6_depthwise_relu[0][0]'] 
                                                                                                  
 block_6_project_BN (BatchNorma  (None, 8, 8, 64)    256         ['block_6_project[0][0]']        
 lization)                                                                                        
                                                                                                  
 block_7_expand (Conv2D)        (None, 8, 8, 384)    24576       ['block_6_project_BN[0][0]']     
                                                                                                  
 block_7_expand_BN (BatchNormal  (None, 8, 8, 384)   1536        ['block_7_expand[0][0]']         
 ization)                                                                                         
                                                                                                  
 block_7_expand_relu (ReLU)     (None, 8, 8, 384)    0           ['block_7_expand_BN[0][0]']      
                                                                                                  
 block_7_depthwise (DepthwiseCo  (None, 8, 8, 384)   3456        ['block_7_expand_relu[0][0]']    
 nv2D)                                                                                            
                                                                                                  
 block_7_depthwise_BN (BatchNor  (None, 8, 8, 384)   1536        ['block_7_depthwise[0][0]']      
 malization)                                                                                      
                                                                                                  
 block_7_depthwise_relu (ReLU)  (None, 8, 8, 384)    0           ['block_7_depthwise_BN[0][0]']   
                                                                                                  
 block_7_project (Conv2D)       (None, 8, 8, 64)     24576       ['block_7_depthwise_relu[0][0]'] 
                                                                                                  
 block_7_project_BN (BatchNorma  (None, 8, 8, 64)    256         ['block_7_project[0][0]']        
 lization)                                                                                        
                                                                                                  
 block_7_add (Add)              (None, 8, 8, 64)     0           ['block_6_project_BN[0][0]',     
                                                                  'block_7_project_BN[0][0]']     
                                                                                                  
 block_8_expand (Conv2D)        (None, 8, 8, 384)    24576       ['block_7_add[0][0]']            
                                                                                                  
 block_8_expand_BN (BatchNormal  (None, 8, 8, 384)   1536        ['block_8_expand[0][0]']         
 ization)                                                                                         
                                                                                                  
 block_8_expand_relu (ReLU)     (None, 8, 8, 384)    0           ['block_8_expand_BN[0][0]']      
                                                                                                  
 block_8_depthwise (DepthwiseCo  (None, 8, 8, 384)   3456        ['block_8_expand_relu[0][0]']    
 nv2D)                                                                                            
                                                                                                  
 block_8_depthwise_BN (BatchNor  (None, 8, 8, 384)   1536        ['block_8_depthwise[0][0]']      
 malization)                                                                                      
                                                                                                  
 block_8_depthwise_relu (ReLU)  (None, 8, 8, 384)    0           ['block_8_depthwise_BN[0][0]']   
                                                                                                  
 block_8_project (Conv2D)       (None, 8, 8, 64)     24576       ['block_8_depthwise_relu[0][0]'] 
                                                                                                  
 block_8_project_BN (BatchNorma  (None, 8, 8, 64)    256         ['block_8_project[0][0]']        
 lization)                                                                                        
                                                                                                  
 block_8_add (Add)              (None, 8, 8, 64)     0           ['block_7_add[0][0]',            
                                                                  'block_8_project_BN[0][0]']     
                                                                                                  
 block_9_expand (Conv2D)        (None, 8, 8, 384)    24576       ['block_8_add[0][0]']            
                                                                                                  
 block_9_expand_BN (BatchNormal  (None, 8, 8, 384)   1536        ['block_9_expand[0][0]']         
 ization)                                                                                         
                                                                                                  
 block_9_expand_relu (ReLU)     (None, 8, 8, 384)    0           ['block_9_expand_BN[0][0]']      
                                                                                                  
 block_9_depthwise (DepthwiseCo  (None, 8, 8, 384)   3456        ['block_9_expand_relu[0][0]']    
 nv2D)                                                                                            
                                                                                                  
 block_9_depthwise_BN (BatchNor  (None, 8, 8, 384)   1536        ['block_9_depthwise[0][0]']      
 malization)                                                                                      
                                                                                                  
 block_9_depthwise_relu (ReLU)  (None, 8, 8, 384)    0           ['block_9_depthwise_BN[0][0]']   
                                                                                                  
 block_9_project (Conv2D)       (None, 8, 8, 64)     24576       ['block_9_depthwise_relu[0][0]'] 
                                                                                                  
 block_9_project_BN (BatchNorma  (None, 8, 8, 64)    256         ['block_9_project[0][0]']        
 lization)                                                                                        
                                                                                                  
 block_9_add (Add)              (None, 8, 8, 64)     0           ['block_8_add[0][0]',            
                                                                  'block_9_project_BN[0][0]']     
                                                                                                  
 block_10_expand (Conv2D)       (None, 8, 8, 384)    24576       ['block_9_add[0][0]']            
                                                                                                  
 block_10_expand_BN (BatchNorma  (None, 8, 8, 384)   1536        ['block_10_expand[0][0]']        
 lization)                                                                                        
                                                                                                  
 block_10_expand_relu (ReLU)    (None, 8, 8, 384)    0           ['block_10_expand_BN[0][0]']     
                                                                                                  
 block_10_depthwise (DepthwiseC  (None, 8, 8, 384)   3456        ['block_10_expand_relu[0][0]']   
 onv2D)                                                                                           
                                                                                                  
 block_10_depthwise_BN (BatchNo  (None, 8, 8, 384)   1536        ['block_10_depthwise[0][0]']     
 rmalization)                                                                                     
                                                                                                  
 block_10_depthwise_relu (ReLU)  (None, 8, 8, 384)   0           ['block_10_depthwise_BN[0][0]']  
                                                                                                  
 block_10_project (Conv2D)      (None, 8, 8, 96)     36864       ['block_10_depthwise_relu[0][0]']
                                                                                                  
 block_10_project_BN (BatchNorm  (None, 8, 8, 96)    384         ['block_10_project[0][0]']       
 alization)                                                                                       
                                                                                                  
 block_11_expand (Conv2D)       (None, 8, 8, 576)    55296       ['block_10_project_BN[0][0]']    
                                                                                                  
 block_11_expand_BN (BatchNorma  (None, 8, 8, 576)   2304        ['block_11_expand[0][0]']        
 lization)                                                                                        
                                                                                                  
 block_11_expand_relu (ReLU)    (None, 8, 8, 576)    0           ['block_11_expand_BN[0][0]']     
                                                                                                  
 block_11_depthwise (DepthwiseC  (None, 8, 8, 576)   5184        ['block_11_expand_relu[0][0]']   
 onv2D)                                                                                           
                                                                                                  
 block_11_depthwise_BN (BatchNo  (None, 8, 8, 576)   2304        ['block_11_depthwise[0][0]']     
 rmalization)                                                                                     
                                                                                                  
 block_11_depthwise_relu (ReLU)  (None, 8, 8, 576)   0           ['block_11_depthwise_BN[0][0]']  
                                                                                                  
 block_11_project (Conv2D)      (None, 8, 8, 96)     55296       ['block_11_depthwise_relu[0][0]']
                                                                                                  
 block_11_project_BN (BatchNorm  (None, 8, 8, 96)    384         ['block_11_project[0][0]']       
 alization)                                                                                       
                                                                                                  
 block_11_add (Add)             (None, 8, 8, 96)     0           ['block_10_project_BN[0][0]',    
                                                                  'block_11_project_BN[0][0]']    
                                                                                                  
 block_12_expand (Conv2D)       (None, 8, 8, 576)    55296       ['block_11_add[0][0]']           
                                                                                                  
 block_12_expand_BN (BatchNorma  (None, 8, 8, 576)   2304        ['block_12_expand[0][0]']        
 lization)                                                                                        
                                                                                                  
 block_12_expand_relu (ReLU)    (None, 8, 8, 576)    0           ['block_12_expand_BN[0][0]']     
                                                                                                  
 block_12_depthwise (DepthwiseC  (None, 8, 8, 576)   5184        ['block_12_expand_relu[0][0]']   
 onv2D)                                                                                           
                                                                                                  
 block_12_depthwise_BN (BatchNo  (None, 8, 8, 576)   2304        ['block_12_depthwise[0][0]']     
 rmalization)                                                                                     
                                                                                                  
 block_12_depthwise_relu (ReLU)  (None, 8, 8, 576)   0           ['block_12_depthwise_BN[0][0]']  
                                                                                                  
 block_12_project (Conv2D)      (None, 8, 8, 96)     55296       ['block_12_depthwise_relu[0][0]']
                                                                                                  
 block_12_project_BN (BatchNorm  (None, 8, 8, 96)    384         ['block_12_project[0][0]']       
 alization)                                                                                       
                                                                                                  
 block_12_add (Add)             (None, 8, 8, 96)     0           ['block_11_add[0][0]',           
                                                                  'block_12_project_BN[0][0]']    
                                                                                                  
 block_13_expand (Conv2D)       (None, 8, 8, 576)    55296       ['block_12_add[0][0]']           
                                                                                                  
 block_13_expand_BN (BatchNorma  (None, 8, 8, 576)   2304        ['block_13_expand[0][0]']        
 lization)                                                                                        
                                                                                                  
 block_13_expand_relu (ReLU)    (None, 8, 8, 576)    0           ['block_13_expand_BN[0][0]']     
                                                                                                  
 block_13_pad (ZeroPadding2D)   (None, 9, 9, 576)    0           ['block_13_expand_relu[0][0]']   
                                                                                                  
 block_13_depthwise (DepthwiseC  (None, 4, 4, 576)   5184        ['block_13_pad[0][0]']           
 onv2D)                                                                                           
                                                                                                  
 block_13_depthwise_BN (BatchNo  (None, 4, 4, 576)   2304        ['block_13_depthwise[0][0]']     
 rmalization)                                                                                     
                                                                                                  
 block_13_depthwise_relu (ReLU)  (None, 4, 4, 576)   0           ['block_13_depthwise_BN[0][0]']  
                                                                                                  
 block_13_project (Conv2D)      (None, 4, 4, 160)    92160       ['block_13_depthwise_relu[0][0]']
                                                                                                  
 block_13_project_BN (BatchNorm  (None, 4, 4, 160)   640         ['block_13_project[0][0]']       
 alization)                                                                                       
                                                                                                  
 block_14_expand (Conv2D)       (None, 4, 4, 960)    153600      ['block_13_project_BN[0][0]']    
                                                                                                  
 block_14_expand_BN (BatchNorma  (None, 4, 4, 960)   3840        ['block_14_expand[0][0]']        
 lization)                                                                                        
                                                                                                  
 block_14_expand_relu (ReLU)    (None, 4, 4, 960)    0           ['block_14_expand_BN[0][0]']     
                                                                                                  
 block_14_depthwise (DepthwiseC  (None, 4, 4, 960)   8640        ['block_14_expand_relu[0][0]']   
 onv2D)                                                                                           
                                                                                                  
 block_14_depthwise_BN (BatchNo  (None, 4, 4, 960)   3840        ['block_14_depthwise[0][0]']     
 rmalization)                                                                                     
                                                                                                  
 block_14_depthwise_relu (ReLU)  (None, 4, 4, 960)   0           ['block_14_depthwise_BN[0][0]']  
                                                                                                  
 block_14_project (Conv2D)      (None, 4, 4, 160)    153600      ['block_14_depthwise_relu[0][0]']
                                                                                                  
 block_14_project_BN (BatchNorm  (None, 4, 4, 160)   640         ['block_14_project[0][0]']       
 alization)                                                                                       
                                                                                                  
 block_14_add (Add)             (None, 4, 4, 160)    0           ['block_13_project_BN[0][0]',    
                                                                  'block_14_project_BN[0][0]']    
                                                                                                  
 block_15_expand (Conv2D)       (None, 4, 4, 960)    153600      ['block_14_add[0][0]']           
                                                                                                  
 block_15_expand_BN (BatchNorma  (None, 4, 4, 960)   3840        ['block_15_expand[0][0]']        
 lization)                                                                                        
                                                                                                  
 block_15_expand_relu (ReLU)    (None, 4, 4, 960)    0           ['block_15_expand_BN[0][0]']     
                                                                                                  
 block_15_depthwise (DepthwiseC  (None, 4, 4, 960)   8640        ['block_15_expand_relu[0][0]']   
 onv2D)                                                                                           
                                                                                                  
 block_15_depthwise_BN (BatchNo  (None, 4, 4, 960)   3840        ['block_15_depthwise[0][0]']     
 rmalization)                                                                                     
                                                                                                  
 block_15_depthwise_relu (ReLU)  (None, 4, 4, 960)   0           ['block_15_depthwise_BN[0][0]']  
                                                                                                  
 block_15_project (Conv2D)      (None, 4, 4, 160)    153600      ['block_15_depthwise_relu[0][0]']
                                                                                                  
 block_15_project_BN (BatchNorm  (None, 4, 4, 160)   640         ['block_15_project[0][0]']       
 alization)                                                                                       
                                                                                                  
 block_15_add (Add)             (None, 4, 4, 160)    0           ['block_14_add[0][0]',           
                                                                  'block_15_project_BN[0][0]']    
                                                                                                  
 block_16_expand (Conv2D)       (None, 4, 4, 960)    153600      ['block_15_add[0][0]']           
                                                                                                  
 block_16_expand_BN (BatchNorma  (None, 4, 4, 960)   3840        ['block_16_expand[0][0]']        
 lization)                                                                                        
                                                                                                  
 block_16_expand_relu (ReLU)    (None, 4, 4, 960)    0           ['block_16_expand_BN[0][0]']     
                                                                                                  
 block_16_depthwise (DepthwiseC  (None, 4, 4, 960)   8640        ['block_16_expand_relu[0][0]']   
 onv2D)                                                                                           
                                                                                                  
 block_16_depthwise_BN (BatchNo  (None, 4, 4, 960)   3840        ['block_16_depthwise[0][0]']     
 rmalization)                                                                                     
                                                                                                  
 block_16_depthwise_relu (ReLU)  (None, 4, 4, 960)   0           ['block_16_depthwise_BN[0][0]']  
                                                                                                  
 block_16_project (Conv2D)      (None, 4, 4, 320)    307200      ['block_16_depthwise_relu[0][0]']
                                                                                                  
 block_16_project_BN (BatchNorm  (None, 4, 4, 320)   1280        ['block_16_project[0][0]']       
 alization)                                                                                       
                                                                                                  
 Conv_1 (Conv2D)                (None, 4, 4, 1280)   409600      ['block_16_project_BN[0][0]']    
                                                                                                  
 Conv_1_bn (BatchNormalization)  (None, 4, 4, 1280)  5120        ['Conv_1[0][0]']                 
                                                                                                  
 out_relu (ReLU)                (None, 4, 4, 1280)   0           ['Conv_1_bn[0][0]']              
                                                                                                  
 global_average_pooling2d_2 (Gl  (None, 1280)        0           ['out_relu[0][0]']               
 obalAveragePooling2D)                                                                            
                                                                                                  
 dense_2 (Dense)                (None, 1)            1281        ['global_average_pooling2d_2[0][0
                                                                 ]']                              
                                                                                                  
==================================================================================================
Total params: 2,259,265
Trainable params: 1,281
Non-trainable params: 2,257,984
__________________________________________________________________________________________________
from tensorflow.keras.callbacks import Callback, ModelCheckpoint, LearningRateScheduler, TensorBoard, EarlyStopping, ReduceLROnPlateau

patience = 3

start_lr = 0.00001
min_lr = 0.00001
max_lr = 0.00005

batch_size = 4

if TPU_INIT:
    max_lr = max_lr * tpu_strategy.num_replicas_in_sync
    batch_size = batch_size * tpu_strategy.num_replicas_in_sync

rampup_epochs = 5
sustain_epochs = 0
exp_decay = .8

def lrfn(epoch):
    if epoch < rampup_epochs:
        return (max_lr - start_lr)/rampup_epochs * epoch + start_lr
    elif epoch < rampup_epochs + sustain_epochs:
        return max_lr
    else:
        return (max_lr - min_lr) * exp_decay**(epoch-rampup_epochs-sustain_epochs) + min_lr


class myCallback(Callback):
    def on_epoch_end(self, epoch, logs={}):
        if ((logs.get('accuracy')>=0.999)):
            print("\nLimits Reached cancelling training!")
            self.model.stop_training = True
end_callback = myCallback()

lr_callback = LearningRateScheduler(lambda epoch: lrfn(epoch), verbose=False)

early_stopping = EarlyStopping(patience = patience, monitor='val_loss',
                                 mode='min', restore_best_weights=True, 
                                 verbose = 1, min_delta = .00075)

PROJECT_DIR = MyDrive + '/RiskDetection'

lr_plat = ReduceLROnPlateau(patience = 2, mode = 'min')

os.system('rm -rf ./logs/')

import datetime
log_dir="logs/fit/" + datetime.datetime.now().strftime("%Y%m%d-%H%M%S")
tensorboard_callback = TensorBoard(log_dir = log_dir, write_graph=True, histogram_freq=1)

checkpoint_filepath = 'ModelWeights.h5'

model_checkpoints = ModelCheckpoint(filepath=checkpoint_filepath,
                                        save_weights_only=True,
                                        monitor='val_loss',
                                        mode='min',
                                        verbose = 1,
                                        save_best_only=True)


callbacks = [end_callback, lr_callback, model_checkpoints, tensorboard_callback, early_stopping, lr_plat]

if TPU_INIT:
    callbacks = [end_callback, lr_callback, model_checkpoints, early_stopping, lr_plat]
print('Training head...')
#model.load_weights('./Model_Weights.h5')

history = model.fit(X_train_nn ,y_train, epochs=epochs,
                        callbacks=callbacks,
                        validation_data = (X_test_nn, y_test),
                        batch_size=batch_size)

print('\nRestoring best Weights for MobileNetV2')
model.load_weights(checkpoint_filepath)
Training head...
Epoch 1/50
2804/2806 [============================>.] - ETA: 0s - loss: 0.8379 - accuracy: 0.5329
Epoch 1: val_loss improved from inf to 0.66372, saving model to ModelWeights.h5
2806/2806 [==============================] - 160s 55ms/step - loss: 0.8378 - accuracy: 0.5330 - val_loss: 0.6637 - val_accuracy: 0.6346 - lr: 1.0000e-05
Epoch 2/50
2805/2806 [============================>.] - ETA: 0s - loss: 0.5114 - accuracy: 0.7496
Epoch 2: val_loss improved from 0.66372 to 0.41035, saving model to ModelWeights.h5
2806/2806 [==============================] - 155s 55ms/step - loss: 0.5114 - accuracy: 0.7496 - val_loss: 0.4104 - val_accuracy: 0.8131 - lr: 1.8000e-05
Epoch 3/50
2806/2806 [==============================] - ETA: 0s - loss: 0.3433 - accuracy: 0.8506
Epoch 3: val_loss improved from 0.41035 to 0.29911, saving model to ModelWeights.h5
2806/2806 [==============================] - 155s 55ms/step - loss: 0.3433 - accuracy: 0.8506 - val_loss: 0.2991 - val_accuracy: 0.8754 - lr: 2.6000e-05
Epoch 4/50
2805/2806 [============================>.] - ETA: 0s - loss: 0.2660 - accuracy: 0.8925
Epoch 4: val_loss improved from 0.29911 to 0.24413, saving model to ModelWeights.h5
2806/2806 [==============================] - 152s 54ms/step - loss: 0.2660 - accuracy: 0.8925 - val_loss: 0.2441 - val_accuracy: 0.9006 - lr: 3.4000e-05
Epoch 5/50
2805/2806 [============================>.] - ETA: 0s - loss: 0.2224 - accuracy: 0.9135
Epoch 5: val_loss improved from 0.24413 to 0.20827, saving model to ModelWeights.h5
2806/2806 [==============================] - 145s 52ms/step - loss: 0.2225 - accuracy: 0.9136 - val_loss: 0.2083 - val_accuracy: 0.9191 - lr: 4.2000e-05
Epoch 6/50
2806/2806 [==============================] - ETA: 0s - loss: 0.1933 - accuracy: 0.9272
Epoch 6: val_loss improved from 0.20827 to 0.18437, saving model to ModelWeights.h5
2806/2806 [==============================] - 153s 54ms/step - loss: 0.1933 - accuracy: 0.9272 - val_loss: 0.1844 - val_accuracy: 0.9268 - lr: 5.0000e-05
Epoch 7/50
2805/2806 [============================>.] - ETA: 0s - loss: 0.1738 - accuracy: 0.9345
Epoch 7: val_loss improved from 0.18437 to 0.17061, saving model to ModelWeights.h5
2806/2806 [==============================] - 159s 57ms/step - loss: 0.1738 - accuracy: 0.9345 - val_loss: 0.1706 - val_accuracy: 0.9324 - lr: 4.2000e-05
Epoch 8/50
2806/2806 [==============================] - ETA: 0s - loss: 0.1617 - accuracy: 0.9403
Epoch 8: val_loss improved from 0.17061 to 0.16231, saving model to ModelWeights.h5
2806/2806 [==============================] - 153s 54ms/step - loss: 0.1617 - accuracy: 0.9403 - val_loss: 0.1623 - val_accuracy: 0.9378 - lr: 3.5600e-05
Epoch 9/50
2806/2806 [==============================] - ETA: 0s - loss: 0.1534 - accuracy: 0.9429
Epoch 9: val_loss improved from 0.16231 to 0.15673, saving model to ModelWeights.h5
2806/2806 [==============================] - 152s 54ms/step - loss: 0.1534 - accuracy: 0.9429 - val_loss: 0.1567 - val_accuracy: 0.9420 - lr: 3.0480e-05
Epoch 10/50
2805/2806 [============================>.] - ETA: 0s - loss: 0.1472 - accuracy: 0.9454
Epoch 10: val_loss improved from 0.15673 to 0.15168, saving model to ModelWeights.h5
2806/2806 [==============================] - 152s 54ms/step - loss: 0.1472 - accuracy: 0.9454 - val_loss: 0.1517 - val_accuracy: 0.9432 - lr: 2.6384e-05
Epoch 11/50
2806/2806 [==============================] - ETA: 0s - loss: 0.1426 - accuracy: 0.9477
Epoch 11: val_loss improved from 0.15168 to 0.14907, saving model to ModelWeights.h5
2806/2806 [==============================] - 151s 54ms/step - loss: 0.1426 - accuracy: 0.9477 - val_loss: 0.1491 - val_accuracy: 0.9457 - lr: 2.3107e-05
Epoch 12/50
2806/2806 [==============================] - ETA: 0s - loss: 0.1390 - accuracy: 0.9485
Epoch 12: val_loss improved from 0.14907 to 0.14538, saving model to ModelWeights.h5
2806/2806 [==============================] - 154s 55ms/step - loss: 0.1390 - accuracy: 0.9485 - val_loss: 0.1454 - val_accuracy: 0.9449 - lr: 2.0486e-05
Epoch 13/50
2805/2806 [============================>.] - ETA: 0s - loss: 0.1360 - accuracy: 0.9499
Epoch 13: val_loss improved from 0.14538 to 0.14301, saving model to ModelWeights.h5
2806/2806 [==============================] - 152s 54ms/step - loss: 0.1360 - accuracy: 0.9499 - val_loss: 0.1430 - val_accuracy: 0.9476 - lr: 1.8389e-05
Epoch 14/50
2805/2806 [============================>.] - ETA: 0s - loss: 0.1334 - accuracy: 0.9523
Epoch 14: val_loss improved from 0.14301 to 0.14106, saving model to ModelWeights.h5
2806/2806 [==============================] - 149s 53ms/step - loss: 0.1334 - accuracy: 0.9523 - val_loss: 0.1411 - val_accuracy: 0.9488 - lr: 1.6711e-05
Epoch 15/50
2805/2806 [============================>.] - ETA: 0s - loss: 0.1312 - accuracy: 0.9523
Epoch 15: val_loss improved from 0.14106 to 0.13939, saving model to ModelWeights.h5
2806/2806 [==============================] - 155s 55ms/step - loss: 0.1312 - accuracy: 0.9523 - val_loss: 0.1394 - val_accuracy: 0.9503 - lr: 1.5369e-05
Epoch 16/50
2805/2806 [============================>.] - ETA: 0s - loss: 0.1292 - accuracy: 0.9535
Epoch 16: val_loss improved from 0.13939 to 0.13819, saving model to ModelWeights.h5
2806/2806 [==============================] - 154s 55ms/step - loss: 0.1292 - accuracy: 0.9535 - val_loss: 0.1382 - val_accuracy: 0.9486 - lr: 1.4295e-05
Epoch 17/50
2806/2806 [==============================] - ETA: 0s - loss: 0.1276 - accuracy: 0.9544
Epoch 17: val_loss improved from 0.13819 to 0.13659, saving model to ModelWeights.h5
2806/2806 [==============================] - 161s 57ms/step - loss: 0.1276 - accuracy: 0.9544 - val_loss: 0.1366 - val_accuracy: 0.9501 - lr: 1.3436e-05
Epoch 18/50
2805/2806 [============================>.] - ETA: 0s - loss: 0.1261 - accuracy: 0.9556
Epoch 18: val_loss improved from 0.13659 to 0.13544, saving model to ModelWeights.h5
2806/2806 [==============================] - 160s 57ms/step - loss: 0.1261 - accuracy: 0.9556 - val_loss: 0.1354 - val_accuracy: 0.9511 - lr: 1.2749e-05
Epoch 19/50
2805/2806 [============================>.] - ETA: 0s - loss: 0.1246 - accuracy: 0.9566
Epoch 19: val_loss improved from 0.13544 to 0.13442, saving model to ModelWeights.h5
2806/2806 [==============================] - 155s 55ms/step - loss: 0.1246 - accuracy: 0.9566 - val_loss: 0.1344 - val_accuracy: 0.9503 - lr: 1.2199e-05
Epoch 20/50
2805/2806 [============================>.] - ETA: 0s - loss: 0.1232 - accuracy: 0.9568
Epoch 20: val_loss improved from 0.13442 to 0.13338, saving model to ModelWeights.h5
2806/2806 [==============================] - 157s 56ms/step - loss: 0.1234 - accuracy: 0.9567 - val_loss: 0.1334 - val_accuracy: 0.9511 - lr: 1.1759e-05
Epoch 21/50
2805/2806 [============================>.] - ETA: 0s - loss: 0.1222 - accuracy: 0.9571
Epoch 21: val_loss improved from 0.13338 to 0.13248, saving model to ModelWeights.h5
2806/2806 [==============================] - 155s 55ms/step - loss: 0.1222 - accuracy: 0.9571 - val_loss: 0.1325 - val_accuracy: 0.9518 - lr: 1.1407e-05
Epoch 22/50
2805/2806 [============================>.] - ETA: 0s - loss: 0.1211 - accuracy: 0.9576
Epoch 22: val_loss improved from 0.13248 to 0.13172, saving model to ModelWeights.h5
2806/2806 [==============================] - 156s 56ms/step - loss: 0.1211 - accuracy: 0.9576 - val_loss: 0.1317 - val_accuracy: 0.9515 - lr: 1.1126e-05
Epoch 23/50
2805/2806 [============================>.] - ETA: 0s - loss: 0.1200 - accuracy: 0.9582
Epoch 23: val_loss improved from 0.13172 to 0.13081, saving model to ModelWeights.h5
2806/2806 [==============================] - 156s 56ms/step - loss: 0.1200 - accuracy: 0.9582 - val_loss: 0.1308 - val_accuracy: 0.9526 - lr: 1.0901e-05
Epoch 24/50
2806/2806 [==============================] - ETA: 0s - loss: 0.1190 - accuracy: 0.9578
Epoch 24: val_loss improved from 0.13081 to 0.13024, saving model to ModelWeights.h5
2806/2806 [==============================] - 153s 54ms/step - loss: 0.1190 - accuracy: 0.9578 - val_loss: 0.1302 - val_accuracy: 0.9524 - lr: 1.0721e-05
Epoch 25/50
2805/2806 [============================>.] - ETA: 0s - loss: 0.1180 - accuracy: 0.9588
Epoch 25: val_loss improved from 0.13024 to 0.12933, saving model to ModelWeights.h5
2806/2806 [==============================] - 152s 54ms/step - loss: 0.1180 - accuracy: 0.9588 - val_loss: 0.1293 - val_accuracy: 0.9528 - lr: 1.0576e-05
Epoch 26/50
2805/2806 [============================>.] - ETA: 0s - loss: 0.1170 - accuracy: 0.9592
Epoch 26: val_loss improved from 0.12933 to 0.12854, saving model to ModelWeights.h5
2806/2806 [==============================] - 151s 54ms/step - loss: 0.1171 - accuracy: 0.9591 - val_loss: 0.1285 - val_accuracy: 0.9530 - lr: 1.0461e-05
Epoch 27/50
2805/2806 [============================>.] - ETA: 0s - loss: 0.1162 - accuracy: 0.9594
Epoch 27: val_loss improved from 0.12854 to 0.12817, saving model to ModelWeights.h5
2806/2806 [==============================] - 155s 55ms/step - loss: 0.1162 - accuracy: 0.9595 - val_loss: 0.1282 - val_accuracy: 0.9540 - lr: 1.0369e-05
Epoch 28/50
2805/2806 [============================>.] - ETA: 0s - loss: 0.1153 - accuracy: 0.9594
Epoch 28: val_loss improved from 0.12817 to 0.12733, saving model to ModelWeights.h5
2806/2806 [==============================] - 153s 55ms/step - loss: 0.1153 - accuracy: 0.9595 - val_loss: 0.1273 - val_accuracy: 0.9536 - lr: 1.0295e-05
Epoch 29/50
2805/2806 [============================>.] - ETA: 0s - loss: 0.1144 - accuracy: 0.9602
Epoch 29: val_loss improved from 0.12733 to 0.12679, saving model to ModelWeights.h5
2806/2806 [==============================] - 156s 55ms/step - loss: 0.1144 - accuracy: 0.9603 - val_loss: 0.1268 - val_accuracy: 0.9538 - lr: 1.0236e-05
Epoch 30/50
2806/2806 [==============================] - ETA: 0s - loss: 0.1137 - accuracy: 0.9607
Epoch 30: val_loss improved from 0.12679 to 0.12596, saving model to ModelWeights.h5
2806/2806 [==============================] - 193s 69ms/step - loss: 0.1137 - accuracy: 0.9607 - val_loss: 0.1260 - val_accuracy: 0.9538 - lr: 1.0189e-05
Epoch 31/50
2805/2806 [============================>.] - ETA: 0s - loss: 0.1129 - accuracy: 0.9610
Epoch 31: val_loss improved from 0.12596 to 0.12538, saving model to ModelWeights.h5
2806/2806 [==============================] - 158s 56ms/step - loss: 0.1129 - accuracy: 0.9610 - val_loss: 0.1254 - val_accuracy: 0.9549 - lr: 1.0151e-05
Epoch 32/50
2805/2806 [============================>.] - ETA: 0s - loss: 0.1120 - accuracy: 0.9618
Epoch 32: val_loss improved from 0.12538 to 0.12474, saving model to ModelWeights.h5
2806/2806 [==============================] - 161s 58ms/step - loss: 0.1121 - accuracy: 0.9617 - val_loss: 0.1247 - val_accuracy: 0.9553 - lr: 1.0121e-05
Epoch 33/50
2806/2806 [==============================] - ETA: 0s - loss: 0.1112 - accuracy: 0.9613
Epoch 33: val_loss improved from 0.12474 to 0.12445, saving model to ModelWeights.h5
2806/2806 [==============================] - 154s 55ms/step - loss: 0.1112 - accuracy: 0.9613 - val_loss: 0.1245 - val_accuracy: 0.9547 - lr: 1.0097e-05
Epoch 34/50
2806/2806 [==============================] - ETA: 0s - loss: 0.1106 - accuracy: 0.9624
Epoch 34: val_loss improved from 0.12445 to 0.12384, saving model to ModelWeights.h5
2806/2806 [==============================] - 154s 55ms/step - loss: 0.1106 - accuracy: 0.9624 - val_loss: 0.1238 - val_accuracy: 0.9551 - lr: 1.0077e-05
Epoch 35/50
2805/2806 [============================>.] - ETA: 0s - loss: 0.1099 - accuracy: 0.9621
Epoch 35: val_loss improved from 0.12384 to 0.12309, saving model to ModelWeights.h5
2806/2806 [==============================] - 230s 82ms/step - loss: 0.1099 - accuracy: 0.9621 - val_loss: 0.1231 - val_accuracy: 0.9565 - lr: 1.0062e-05
Epoch 36/50
2805/2806 [============================>.] - ETA: 0s - loss: 0.1092 - accuracy: 0.9625
Epoch 36: val_loss improved from 0.12309 to 0.12257, saving model to ModelWeights.h5
2806/2806 [==============================] - 258s 92ms/step - loss: 0.1092 - accuracy: 0.9625 - val_loss: 0.1226 - val_accuracy: 0.9567 - lr: 1.0050e-05
Epoch 37/50
2805/2806 [============================>.] - ETA: 0s - loss: 0.1085 - accuracy: 0.9629
Epoch 37: val_loss improved from 0.12257 to 0.12202, saving model to ModelWeights.h5
2806/2806 [==============================] - 251s 90ms/step - loss: 0.1085 - accuracy: 0.9629 - val_loss: 0.1220 - val_accuracy: 0.9565 - lr: 1.0040e-05
Epoch 38/50
2805/2806 [============================>.] - ETA: 0s - loss: 0.1078 - accuracy: 0.9629
Epoch 38: val_loss improved from 0.12202 to 0.12151, saving model to ModelWeights.h5
2806/2806 [==============================] - 256s 91ms/step - loss: 0.1078 - accuracy: 0.9629 - val_loss: 0.1215 - val_accuracy: 0.9565 - lr: 1.0032e-05
Epoch 39/50
2805/2806 [============================>.] - ETA: 0s - loss: 0.1072 - accuracy: 0.9632
Epoch 39: val_loss improved from 0.12151 to 0.12110, saving model to ModelWeights.h5
2806/2806 [==============================] - 255s 91ms/step - loss: 0.1072 - accuracy: 0.9632 - val_loss: 0.1211 - val_accuracy: 0.9563 - lr: 1.0025e-05
Epoch 40/50
2805/2806 [============================>.] - ETA: 0s - loss: 0.1065 - accuracy: 0.9637
Epoch 40: val_loss improved from 0.12110 to 0.12054, saving model to ModelWeights.h5
2806/2806 [==============================] - 272s 97ms/step - loss: 0.1065 - accuracy: 0.9637 - val_loss: 0.1205 - val_accuracy: 0.9563 - lr: 1.0020e-05
Epoch 41/50
2805/2806 [============================>.] - ETA: 0s - loss: 0.1059 - accuracy: 0.9635
Epoch 41: val_loss improved from 0.12054 to 0.12007, saving model to ModelWeights.h5
2806/2806 [==============================] - 260s 93ms/step - loss: 0.1059 - accuracy: 0.9635 - val_loss: 0.1201 - val_accuracy: 0.9567 - lr: 1.0016e-05
Epoch 42/50
2806/2806 [==============================] - ETA: 0s - loss: 0.1053 - accuracy: 0.9638
Epoch 42: val_loss improved from 0.12007 to 0.11970, saving model to ModelWeights.h5
2806/2806 [==============================] - 275s 98ms/step - loss: 0.1053 - accuracy: 0.9638 - val_loss: 0.1197 - val_accuracy: 0.9572 - lr: 1.0013e-05
Epoch 43/50
2805/2806 [============================>.] - ETA: 0s - loss: 0.1047 - accuracy: 0.9641
Epoch 43: val_loss improved from 0.11970 to 0.11922, saving model to ModelWeights.h5
2806/2806 [==============================] - 286s 102ms/step - loss: 0.1047 - accuracy: 0.9641 - val_loss: 0.1192 - val_accuracy: 0.9576 - lr: 1.0010e-05
Epoch 44/50
2806/2806 [==============================] - ETA: 0s - loss: 0.1040 - accuracy: 0.9647
Epoch 44: val_loss improved from 0.11922 to 0.11876, saving model to ModelWeights.h5
2806/2806 [==============================] - 1830s 652ms/step - loss: 0.1040 - accuracy: 0.9647 - val_loss: 0.1188 - val_accuracy: 0.9584 - lr: 1.0008e-05
Epoch 45/50
2805/2806 [============================>.] - ETA: 0s - loss: 0.1033 - accuracy: 0.9652
Epoch 45: val_loss improved from 0.11876 to 0.11833, saving model to ModelWeights.h5
2806/2806 [==============================] - 275s 98ms/step - loss: 0.1034 - accuracy: 0.9651 - val_loss: 0.1183 - val_accuracy: 0.9578 - lr: 1.0007e-05
Epoch 46/50
2805/2806 [============================>.] - ETA: 0s - loss: 0.1029 - accuracy: 0.9652
Epoch 46: val_loss improved from 0.11833 to 0.11800, saving model to ModelWeights.h5
2806/2806 [==============================] - 270s 96ms/step - loss: 0.1029 - accuracy: 0.9652 - val_loss: 0.1180 - val_accuracy: 0.9576 - lr: 1.0005e-05
Epoch 47/50
2805/2806 [============================>.] - ETA: 0s - loss: 0.1023 - accuracy: 0.9653
Epoch 47: val_loss improved from 0.11800 to 0.11762, saving model to ModelWeights.h5
2806/2806 [==============================] - 285s 102ms/step - loss: 0.1023 - accuracy: 0.9653 - val_loss: 0.1176 - val_accuracy: 0.9586 - lr: 1.0004e-05
Epoch 48/50
2805/2806 [============================>.] - ETA: 0s - loss: 0.1017 - accuracy: 0.9653
Epoch 48: val_loss improved from 0.11762 to 0.11713, saving model to ModelWeights.h5
2806/2806 [==============================] - 275s 98ms/step - loss: 0.1017 - accuracy: 0.9653 - val_loss: 0.1171 - val_accuracy: 0.9582 - lr: 1.0003e-05
Epoch 49/50
2805/2806 [============================>.] - ETA: 0s - loss: 0.1011 - accuracy: 0.9655
Epoch 49: val_loss did not improve from 0.11713
2806/2806 [==============================] - 293s 104ms/step - loss: 0.1011 - accuracy: 0.9655 - val_loss: 0.1174 - val_accuracy: 0.9570 - lr: 1.0003e-05
Epoch 50/50
2805/2806 [============================>.] - ETA: 0s - loss: 0.1007 - accuracy: 0.9653
Epoch 50: val_loss improved from 0.11713 to 0.11633, saving model to ModelWeights.h5
2806/2806 [==============================] - 284s 101ms/step - loss: 0.1007 - accuracy: 0.9653 - val_loss: 0.1163 - val_accuracy: 0.9578 - lr: 1.0002e-05

Restoring best Weights for MobileNetV2
%matplotlib inline

def print_graph(item, index, history):
    plt.figure()
    train_values = history.history[item][0:index]
    plt.plot(train_values)
    test_values = history.history['val_' + item][0:index]
    plt.plot(test_values)
    plt.legend(['training','validation'])
    plt.title('Training and validation '+ item)
    plt.xlabel('epoch')
    plt.show()
    plot = '{}.png'.format(item)
    plt.savefig(plot)


def get_best_epoch(test_loss, history):
    for key, item in enumerate(history.history.items()):
        (name, arr) = item
        if name == 'val_loss':
            for i in range(len(arr)):
                if round(test_loss, 2) == round(arr[i], 2):
                    return i
                
def model_summary(model, history):
    print('---'*30)
    test_loss, test_accuracy = model.evaluate(X_test_nn, y_test, verbose=0)

    if history:
        index = get_best_epoch(test_loss, history)
        print('Best Epochs: ', index)

        train_accuracy = history.history['accuracy'][index]
        train_loss = history.history['loss'][index]

        print('Accuracy on train:',train_accuracy,'\tLoss on train:',train_loss)
        print('Accuracy on test:',test_accuracy,'\tLoss on test:',test_loss)
        print_graph('loss', index, history)
        print_graph('accuracy', index, history)
        print('---'*30)                
model_summary(model, history)
------------------------------------------------------------------------------------------
Best Epochs:  31
Accuracy on train: 0.9616789817810059 	Loss on train: 0.11210563778877258
Accuracy on test: 0.9577874541282654 	Loss on test: 0.116333968937397

<Figure size 432x288 with 0 Axes>

------------------------------------------------------------------------------------------
<Figure size 432x288 with 0 Axes>
Evaluation on test set
# evaluate the network
print("Evaluating network...")
predictions = model.predict(X_test_nn)
preds = predictions > 0.5
Evaluating network...
import seaborn as sns
from sklearn import metrics
from sklearn.metrics import roc_curve, roc_auc_score, plot_roc_curve, accuracy_score, classification_report, confusion_matrix
corr_pred = metrics.confusion_matrix(y_test, preds)

n_correct = np.int((corr_pred[0][0] + corr_pred[1][1]))
print('> Correct Predictions:', n_correct)
n_wrongs = np.int((corr_pred[0][1] + (corr_pred[1][0])))
print('> Wrong Predictions:', n_wrongs)

sns.heatmap(corr_pred,annot=True, fmt="d",cmap="Blues")
plt.show()

print(metrics.classification_report(y_test, preds, 
                           target_names=["NonViolence", "Violence"]))
C:\Users\hp\AppData\Local\Temp/ipykernel_6244/3180812836.py:6: DeprecationWarning: `np.int` is a deprecated alias for the builtin `int`. To silence this warning, use `int` by itself. Doing this will not modify any behavior and is safe. When replacing `np.int`, you may wish to use e.g. `np.int64` or `np.int32` to specify the precision. If you wish to review your current use, check the release note link for additional information.
Deprecated in NumPy 1.20; for more details and guidance: https://numpy.org/devdocs/release/1.20.0-notes.html#deprecations
  n_correct = np.int((corr_pred[0][0] + corr_pred[1][1]))
C:\Users\hp\AppData\Local\Temp/ipykernel_6244/3180812836.py:8: DeprecationWarning: `np.int` is a deprecated alias for the builtin `int`. To silence this warning, use `int` by itself. Doing this will not modify any behavior and is safe. When replacing `np.int`, you may wish to use e.g. `np.int64` or `np.int32` to specify the precision. If you wish to review your current use, check the release note link for additional information.
Deprecated in NumPy 1.20; for more details and guidance: https://numpy.org/devdocs/release/1.20.0-notes.html#deprecations
  n_wrongs = np.int((corr_pred[0][1] + (corr_pred[1][0])))
> Correct Predictions: 4606
> Wrong Predictions: 203

              precision    recall  f1-score   support

 NonViolence       0.96      0.95      0.95      2243
    Violence       0.96      0.96      0.96      2566

    accuracy                           0.96      4809
   macro avg       0.96      0.96      0.96      4809
weighted avg       0.96      0.96      0.96      4809

args_model = "modelnew.h5"
model.save(args_model)
